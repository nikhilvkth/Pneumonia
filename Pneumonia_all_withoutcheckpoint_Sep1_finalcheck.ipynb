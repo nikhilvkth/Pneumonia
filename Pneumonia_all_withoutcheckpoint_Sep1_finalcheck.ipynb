{
 "cells": [
  {
   "cell_type": "code",
   "execution_count": 1,
   "id": "50f19edb-323e-47e7-b495-b674f337d232",
   "metadata": {},
   "outputs": [
    {
     "name": "stdout",
     "output_type": "stream",
     "text": [
      "Requirement already satisfied: pip in c:\\users\\n.kulangareth\\appdata\\local\\anaconda3\\lib\\site-packages (25.1.1)\n",
      "Collecting pip\n",
      "  Downloading pip-25.2-py3-none-any.whl.metadata (4.7 kB)\n",
      "Downloading pip-25.2-py3-none-any.whl (1.8 MB)\n",
      "   ---------------------------------------- 0.0/1.8 MB ? eta -:--:--\n",
      "   ---------------------------------------- 0.0/1.8 MB ? eta -:--:--\n",
      "   ----------- ---------------------------- 0.5/1.8 MB 2.8 MB/s eta 0:00:01\n",
      "   ----------------------------------- ---- 1.6/1.8 MB 4.7 MB/s eta 0:00:01\n",
      "   ---------------------------------------- 1.8/1.8 MB 3.0 MB/s eta 0:00:00\n",
      "Installing collected packages: pip\n",
      "  Attempting uninstall: pip\n",
      "    Found existing installation: pip 25.1.1\n",
      "    Uninstalling pip-25.1.1:\n",
      "      Successfully uninstalled pip-25.1.1\n",
      "Successfully installed pip-25.2\n",
      "Note: you may need to restart the kernel to use updated packages.\n"
     ]
    }
   ],
   "source": [
    "pip install --upgrade pip"
   ]
  },
  {
   "cell_type": "code",
   "execution_count": 2,
   "id": "bdf133e3-3237-4d9b-b8e2-4b040cfacc6c",
   "metadata": {},
   "outputs": [
    {
     "name": "stdout",
     "output_type": "stream",
     "text": [
      "Requirement already satisfied: pathlib in c:\\users\\n.kulangareth\\appdata\\local\\anaconda3\\lib\\site-packages (1.0.1)\n",
      "Requirement already satisfied: pydicom in c:\\users\\n.kulangareth\\appdata\\local\\anaconda3\\lib\\site-packages (3.0.1)\n",
      "Requirement already satisfied: matplotlib in c:\\users\\n.kulangareth\\appdata\\local\\anaconda3\\lib\\site-packages (3.9.2)\n",
      "Requirement already satisfied: tqdm in c:\\users\\n.kulangareth\\appdata\\local\\anaconda3\\lib\\site-packages (4.66.5)\n",
      "Requirement already satisfied: opencv-python in c:\\users\\n.kulangareth\\appdata\\local\\anaconda3\\lib\\site-packages (4.11.0.86)\n",
      "Requirement already satisfied: contourpy>=1.0.1 in c:\\users\\n.kulangareth\\appdata\\local\\anaconda3\\lib\\site-packages (from matplotlib) (1.2.0)\n",
      "Requirement already satisfied: cycler>=0.10 in c:\\users\\n.kulangareth\\appdata\\local\\anaconda3\\lib\\site-packages (from matplotlib) (0.11.0)\n",
      "Requirement already satisfied: fonttools>=4.22.0 in c:\\users\\n.kulangareth\\appdata\\local\\anaconda3\\lib\\site-packages (from matplotlib) (4.51.0)\n",
      "Requirement already satisfied: kiwisolver>=1.3.1 in c:\\users\\n.kulangareth\\appdata\\local\\anaconda3\\lib\\site-packages (from matplotlib) (1.4.4)\n",
      "Requirement already satisfied: numpy>=1.23 in c:\\users\\n.kulangareth\\appdata\\local\\anaconda3\\lib\\site-packages (from matplotlib) (1.26.4)\n",
      "Requirement already satisfied: packaging>=20.0 in c:\\users\\n.kulangareth\\appdata\\local\\anaconda3\\lib\\site-packages (from matplotlib) (24.1)\n",
      "Requirement already satisfied: pillow>=8 in c:\\users\\n.kulangareth\\appdata\\local\\anaconda3\\lib\\site-packages (from matplotlib) (10.4.0)\n",
      "Requirement already satisfied: pyparsing>=2.3.1 in c:\\users\\n.kulangareth\\appdata\\local\\anaconda3\\lib\\site-packages (from matplotlib) (3.1.2)\n",
      "Requirement already satisfied: python-dateutil>=2.7 in c:\\users\\n.kulangareth\\appdata\\local\\anaconda3\\lib\\site-packages (from matplotlib) (2.9.0.post0)\n",
      "Requirement already satisfied: colorama in c:\\users\\n.kulangareth\\appdata\\local\\anaconda3\\lib\\site-packages (from tqdm) (0.4.6)\n",
      "Requirement already satisfied: six>=1.5 in c:\\users\\n.kulangareth\\appdata\\local\\anaconda3\\lib\\site-packages (from python-dateutil>=2.7->matplotlib) (1.16.0)\n",
      "Note: you may need to restart the kernel to use updated packages.\n"
     ]
    }
   ],
   "source": [
    "pip install pathlib pydicom matplotlib tqdm opencv-python"
   ]
  },
  {
   "cell_type": "code",
   "execution_count": 3,
   "id": "8777d133-e6a4-4d91-be47-9062d17e20f6",
   "metadata": {},
   "outputs": [
    {
     "name": "stdout",
     "output_type": "stream",
     "text": [
      "Requirement already satisfied: torch in c:\\users\\n.kulangareth\\appdata\\local\\anaconda3\\lib\\site-packages (2.6.0)\n",
      "Requirement already satisfied: torchvision in c:\\users\\n.kulangareth\\appdata\\local\\anaconda3\\lib\\site-packages (0.21.0)\n",
      "Requirement already satisfied: torchmetrics in c:\\users\\n.kulangareth\\appdata\\local\\anaconda3\\lib\\site-packages (1.6.1)\n",
      "Requirement already satisfied: pytorch-lightning in c:\\users\\n.kulangareth\\appdata\\local\\anaconda3\\lib\\site-packages (2.5.0.post0)\n",
      "Requirement already satisfied: filelock in c:\\users\\n.kulangareth\\appdata\\local\\anaconda3\\lib\\site-packages (from torch) (3.13.1)\n",
      "Requirement already satisfied: typing-extensions>=4.10.0 in c:\\users\\n.kulangareth\\appdata\\local\\anaconda3\\lib\\site-packages (from torch) (4.11.0)\n",
      "Requirement already satisfied: networkx in c:\\users\\n.kulangareth\\appdata\\local\\anaconda3\\lib\\site-packages (from torch) (3.3)\n",
      "Requirement already satisfied: jinja2 in c:\\users\\n.kulangareth\\appdata\\local\\anaconda3\\lib\\site-packages (from torch) (3.1.4)\n",
      "Requirement already satisfied: fsspec in c:\\users\\n.kulangareth\\appdata\\local\\anaconda3\\lib\\site-packages (from torch) (2024.6.1)\n",
      "Requirement already satisfied: setuptools in c:\\users\\n.kulangareth\\appdata\\local\\anaconda3\\lib\\site-packages (from torch) (75.1.0)\n",
      "Requirement already satisfied: sympy==1.13.1 in c:\\users\\n.kulangareth\\appdata\\local\\anaconda3\\lib\\site-packages (from torch) (1.13.1)\n",
      "Requirement already satisfied: mpmath<1.4,>=1.1.0 in c:\\users\\n.kulangareth\\appdata\\local\\anaconda3\\lib\\site-packages (from sympy==1.13.1->torch) (1.3.0)\n",
      "Requirement already satisfied: numpy in c:\\users\\n.kulangareth\\appdata\\local\\anaconda3\\lib\\site-packages (from torchvision) (1.26.4)\n",
      "Requirement already satisfied: pillow!=8.3.*,>=5.3.0 in c:\\users\\n.kulangareth\\appdata\\local\\anaconda3\\lib\\site-packages (from torchvision) (10.4.0)\n",
      "Requirement already satisfied: packaging>17.1 in c:\\users\\n.kulangareth\\appdata\\local\\anaconda3\\lib\\site-packages (from torchmetrics) (24.1)\n",
      "Requirement already satisfied: lightning-utilities>=0.8.0 in c:\\users\\n.kulangareth\\appdata\\local\\anaconda3\\lib\\site-packages (from torchmetrics) (0.12.0)\n",
      "Requirement already satisfied: tqdm>=4.57.0 in c:\\users\\n.kulangareth\\appdata\\local\\anaconda3\\lib\\site-packages (from pytorch-lightning) (4.66.5)\n",
      "Requirement already satisfied: PyYAML>=5.4 in c:\\users\\n.kulangareth\\appdata\\local\\anaconda3\\lib\\site-packages (from pytorch-lightning) (6.0.1)\n",
      "Requirement already satisfied: aiohttp!=4.0.0a0,!=4.0.0a1 in c:\\users\\n.kulangareth\\appdata\\local\\anaconda3\\lib\\site-packages (from fsspec[http]>=2022.5.0->pytorch-lightning) (3.10.5)\n",
      "Requirement already satisfied: aiohappyeyeballs>=2.3.0 in c:\\users\\n.kulangareth\\appdata\\local\\anaconda3\\lib\\site-packages (from aiohttp!=4.0.0a0,!=4.0.0a1->fsspec[http]>=2022.5.0->pytorch-lightning) (2.4.0)\n",
      "Requirement already satisfied: aiosignal>=1.1.2 in c:\\users\\n.kulangareth\\appdata\\local\\anaconda3\\lib\\site-packages (from aiohttp!=4.0.0a0,!=4.0.0a1->fsspec[http]>=2022.5.0->pytorch-lightning) (1.2.0)\n",
      "Requirement already satisfied: attrs>=17.3.0 in c:\\users\\n.kulangareth\\appdata\\local\\anaconda3\\lib\\site-packages (from aiohttp!=4.0.0a0,!=4.0.0a1->fsspec[http]>=2022.5.0->pytorch-lightning) (23.1.0)\n",
      "Requirement already satisfied: frozenlist>=1.1.1 in c:\\users\\n.kulangareth\\appdata\\local\\anaconda3\\lib\\site-packages (from aiohttp!=4.0.0a0,!=4.0.0a1->fsspec[http]>=2022.5.0->pytorch-lightning) (1.4.0)\n",
      "Requirement already satisfied: multidict<7.0,>=4.5 in c:\\users\\n.kulangareth\\appdata\\local\\anaconda3\\lib\\site-packages (from aiohttp!=4.0.0a0,!=4.0.0a1->fsspec[http]>=2022.5.0->pytorch-lightning) (6.0.4)\n",
      "Requirement already satisfied: yarl<2.0,>=1.0 in c:\\users\\n.kulangareth\\appdata\\local\\anaconda3\\lib\\site-packages (from aiohttp!=4.0.0a0,!=4.0.0a1->fsspec[http]>=2022.5.0->pytorch-lightning) (1.11.0)\n",
      "Requirement already satisfied: idna>=2.0 in c:\\users\\n.kulangareth\\appdata\\local\\anaconda3\\lib\\site-packages (from yarl<2.0,>=1.0->aiohttp!=4.0.0a0,!=4.0.0a1->fsspec[http]>=2022.5.0->pytorch-lightning) (3.7)\n",
      "Requirement already satisfied: colorama in c:\\users\\n.kulangareth\\appdata\\local\\anaconda3\\lib\\site-packages (from tqdm>=4.57.0->pytorch-lightning) (0.4.6)\n",
      "Requirement already satisfied: MarkupSafe>=2.0 in c:\\users\\n.kulangareth\\appdata\\local\\anaconda3\\lib\\site-packages (from jinja2->torch) (2.1.3)\n",
      "Note: you may need to restart the kernel to use updated packages.\n"
     ]
    }
   ],
   "source": [
    "pip install torch torchvision torchmetrics pytorch-lightning"
   ]
  },
  {
   "cell_type": "code",
   "execution_count": 4,
   "id": "bc223a1d-26a2-42eb-b4be-b7b11559dbda",
   "metadata": {},
   "outputs": [
    {
     "name": "stdout",
     "output_type": "stream",
     "text": [
      "Requirement already satisfied: tensorboardX in c:\\users\\n.kulangareth\\appdata\\local\\anaconda3\\lib\\site-packages (2.6.2.2)\n",
      "Collecting tensorboardX\n",
      "  Downloading tensorboardx-2.6.4-py3-none-any.whl.metadata (6.2 kB)\n",
      "Requirement already satisfied: numpy in c:\\users\\n.kulangareth\\appdata\\local\\anaconda3\\lib\\site-packages (from tensorboardX) (1.26.4)\n",
      "Requirement already satisfied: packaging in c:\\users\\n.kulangareth\\appdata\\local\\anaconda3\\lib\\site-packages (from tensorboardX) (24.1)\n",
      "Requirement already satisfied: protobuf>=3.20 in c:\\users\\n.kulangareth\\appdata\\local\\anaconda3\\lib\\site-packages (from tensorboardX) (4.25.3)\n",
      "Downloading tensorboardx-2.6.4-py3-none-any.whl (87 kB)\n",
      "Installing collected packages: tensorboardX\n",
      "  Attempting uninstall: tensorboardX\n",
      "    Found existing installation: tensorboardX 2.6.2.2\n",
      "    Uninstalling tensorboardX-2.6.2.2:\n",
      "      Successfully uninstalled tensorboardX-2.6.2.2\n",
      "Successfully installed tensorboardX-2.6.4\n",
      "Note: you may need to restart the kernel to use updated packages.\n"
     ]
    }
   ],
   "source": [
    "pip install -U tensorboardX"
   ]
  },
  {
   "cell_type": "code",
   "execution_count": 19,
   "id": "d44ea2ca-9ab2-4c3c-883a-ad440400eff8",
   "metadata": {},
   "outputs": [
    {
     "name": "stdout",
     "output_type": "stream",
     "text": [
      "Files copied successfully.\n"
     ]
    }
   ],
   "source": [
    "import os\n",
    "import shutil\n",
    "import pandas as pd\n",
    "\n",
    "# Paths\n",
    "root_folder = \"C:/Users/n.kulangareth/Downloads/rsna-pneumonia-detection-challenge/stage_2_train_images\"\n",
    "process_folder = \"C:/Users/n.kulangareth/Downloads/500_samples\"\n",
    "\n",
    "# Read the CSV file (update with actual file name)\n",
    "csv_path = \"C:/Users/n.kulangareth/Downloads/500_samples/stage_2_train_labels.csv\"\n",
    "labels = pd.read_csv(csv_path)\n",
    "labels.head(5)\n",
    "\n",
    "# Ensure process folder exists\n",
    "os.makedirs(process_folder, exist_ok=True)\n",
    "\n",
    "# Check if 'patientId' column exists\n",
    "if 'patientId' in labels.columns:\n",
    "    for pid in labels['patientId']:\n",
    "        # Look for files named as the patientId with any extension\n",
    "        for file_name in os.listdir(root_folder):\n",
    "            name, ext = os.path.splitext(file_name)\n",
    "            if name == str(pid):\n",
    "                src = os.path.join(root_folder, file_name)\n",
    "                dst = os.path.join(process_folder, file_name)\n",
    "                shutil.copy2(src, dst)\n",
    "                break  # Stop checking once we find a matching file\n",
    "    print(\"Files copied successfully.\")\n",
    "else:\n",
    "    print(\"Column 'patientId' not found in CSV.\")\n"
   ]
  },
  {
   "cell_type": "code",
   "execution_count": 3,
   "id": "631d7446-36e5-48c3-beb7-32b2d96844a0",
   "metadata": {},
   "outputs": [],
   "source": [
    "from pathlib import Path\n",
    "import pydicom\n",
    "import numpy as np\n",
    "import cv2\n",
    "import pandas as pd\n",
    "import matplotlib.pyplot as plt\n",
    "from tqdm.notebook import tqdm\n",
    "\n",
    "import torch\n",
    "import torchvision\n",
    "from torchvision import transforms\n",
    "import torchmetrics\n",
    "import pytorch_lightning as pl\n",
    "from pytorch_lightning.callbacks import ModelCheckpoint\n",
    "from pytorch_lightning.loggers import TensorBoardLogger\n",
    "from tqdm.notebook import tqdm\n",
    "import numpy as np\n",
    "import matplotlib.pyplot as plt"
   ]
  },
  {
   "cell_type": "code",
   "execution_count": null,
   "id": "599f0e58-07c8-4d29-afa6-07671a71f99b",
   "metadata": {},
   "outputs": [],
   "source": []
  },
  {
   "cell_type": "code",
   "execution_count": 4,
   "id": "d2155ee0-048b-4311-baa8-a4736f068059",
   "metadata": {},
   "outputs": [
    {
     "name": "stderr",
     "output_type": "stream",
     "text": [
      "100%|████████████████████████████████████████████████████████████████████████████| 26684/26684 [08:02<00:00, 55.33it/s]\n"
     ]
    },
    {
     "name": "stdout",
     "output_type": "stream",
     "text": [
      "Mean of Dataset: 0.4903962485384803, STD: 0.24795070634161256\n"
     ]
    }
   ],
   "source": [
    "\n",
    "# Read the CSV file (update with actual file name)\n",
    "csv_path = \"C:/Users/n.kulangareth/Downloads/all_samples/stage_2_train_labels.csv\"\n",
    "labels = pd.read_csv(csv_path)\n",
    "labels = labels.drop_duplicates(\"patientId\")\n",
    "from tqdm import tqdm\n",
    "sums = 0\n",
    "sums_squared = 0\n",
    "\n",
    "ROOT_PATH = Path(\"C:/Users/n.kulangareth/Downloads/all_samples/stage_2_train_images\")\n",
    "SAVE_PATH = Path(\"C:/Users/n.kulangareth/Downloads/all_samples/Processed/\")\n",
    "for c, patient_id in enumerate(tqdm(labels.patientId.astype(str))):\n",
    "    dcm_path = ROOT_PATH / patient_id\n",
    "    dcm_path = dcm_path.with_suffix(\".dcm\")\n",
    "\n",
    "\n",
    "   \n",
    "    # Read the DICOM file with pydicom and standardize the array\n",
    "    dcm = pydicom.dcmread(dcm_path).pixel_array / 255  # Use dcmread instead of read_file\n",
    "       \n",
    "    # Resize the image; 1024x1024 is large, so we resize to 224x224\n",
    "    dcm_array = cv2.resize(dcm, (224, 224)).astype(np.float16)\n",
    "   \n",
    "    # Retrieve the corresponding label\n",
    "    label = labels.Target.iloc[c]\n",
    "   \n",
    "    # 4/5 train split, 1/5 val split\n",
    "    train_or_val = \"train\" if c < 24000 else \"val\"\n",
    "       \n",
    "    # Define save path and create directories if necessary\n",
    "    current_save_path = SAVE_PATH / train_or_val / str(label)\n",
    "    current_save_path.mkdir(parents=True, exist_ok=True)\n",
    "   \n",
    "    # Save the array in the corresponding directory\n",
    "    np.save(current_save_path / patient_id, dcm_array)\n",
    "   \n",
    "    # Normalize sum of image for statistics calculation\n",
    "    normalizer = dcm_array.shape[0] * dcm_array.shape[1]\n",
    "   \n",
    "    if train_or_val == \"train\":  # Only use train data to compute dataset statistics\n",
    "        sums += np.sum(dcm_array) / normalizer\n",
    "        sums_squared += (np.power(dcm_array, 2).sum()) / normalizer\n",
    "\n",
    "\n",
    "\n",
    "mean = sums / 24000\n",
    "std = np.sqrt(sums_squared / 24000 - (mean**2))\n",
    "\n",
    "\n",
    "print(f\"Mean of Dataset: {mean}, STD: {std}\")"
   ]
  },
  {
   "cell_type": "code",
   "execution_count": 5,
   "id": "3462361c-7901-4802-9ee9-a1a95b02a2bf",
   "metadata": {},
   "outputs": [],
   "source": [
    "\n",
    "\n",
    "\n",
    "def load_file(path):\n",
    "    return np.load(path).astype(np.float32)\n",
    "\n",
    "train_transforms = transforms.Compose([\n",
    "                                    transforms.ToTensor(),  # Convert numpy array to tensor\n",
    "                                    transforms.Normalize(0.4903, 0.2479),  # Use mean and std from preprocessing notebook\n",
    "                                    transforms.RandomAffine( # Data Augmentation\n",
    "                                        degrees=(-5, 5), translate=(0, 0.05), scale=(0.9, 1.1)),\n",
    "                                        transforms.RandomResizedCrop((224, 224), scale=(0.35, 1))\n",
    "\n",
    "])\n",
    "\n",
    "val_transforms = transforms.Compose([\n",
    "                                    transforms.ToTensor(),  # Convert numpy array to tensor\n",
    "                                    transforms.Normalize([0.4903], [0.2479]),  # Use mean and std from preprocessing notebook\n",
    "])\n",
    "\n",
    "\n",
    "\n",
    "\n",
    "\n",
    "\n"
   ]
  },
  {
   "cell_type": "code",
   "execution_count": 6,
   "id": "e73c7137-e02e-4b63-bef0-577ec1c3fbc5",
   "metadata": {},
   "outputs": [],
   "source": [
    "train_dataset = torchvision.datasets.DatasetFolder(\n",
    "    \"C:/Users/n.kulangareth/Downloads/all_samples/Processed/train\",\n",
    "    loader=load_file, extensions=\"npy\", transform=train_transforms)\n",
    "\n",
    "val_dataset = torchvision.datasets.DatasetFolder(\n",
    "    \"C:/Users/n.kulangareth/Downloads/all_samples/Processed/val\",\n",
    "    loader=load_file, extensions=\"npy\", transform=val_transforms)\n",
    "\n"
   ]
  },
  {
   "cell_type": "code",
   "execution_count": null,
   "id": "7ce6cc05-8fc7-46cc-8abd-c0b3be633bde",
   "metadata": {},
   "outputs": [],
   "source": [
    "fig, axis = plt.subplots(2, 2, figsize=(9, 9))\n",
    "for i in range(2):\n",
    "    for j in range(2):\n",
    "        random_index = np.random.randint(0, 200)\n",
    "        x_ray, label = train_dataset[random_index]\n",
    "        axis[i][j].imshow(x_ray[0], cmap=\"bone\")\n",
    "        axis[i][j].set_title(f\"Label:{label}\")"
   ]
  },
  {
   "cell_type": "code",
   "execution_count": 7,
   "id": "d25cd023-30dc-4502-98ae-d44ed73b6374",
   "metadata": {},
   "outputs": [
    {
     "name": "stdout",
     "output_type": "stream",
     "text": [
      "There are 24000 train images and 2684 val images\n"
     ]
    }
   ],
   "source": [
    "\n",
    "batch_size = 8#TODO\n",
    "num_workers = 0# TODO\n",
    "\n",
    "train_loader = torch.utils.data.DataLoader(train_dataset, batch_size=batch_size, num_workers=num_workers, shuffle=True)\n",
    "val_loader = torch.utils.data.DataLoader(val_dataset, batch_size=batch_size, num_workers=num_workers, shuffle=False)\n",
    "\n",
    "print(f\"There are {len(train_dataset)} train images and {len(val_dataset)} val images\")\n",
    "\n",
    "import torch\n",
    "import torchvision\n",
    "import pytorch_lightning as pl\n",
    "from pytorch_lightning.callbacks import ModelCheckpoint\n",
    "from pytorch_lightning.loggers import TensorBoardLogger\n",
    "import torchmetrics\n",
    "\n",
    "class PneumoniaModel(pl.LightningModule):\n",
    "    def __init__(self, weight=1):\n",
    "        super().__init__()\n",
    "\n",
    "        self.model = torchvision.models.resnet18()\n",
    "        # Modify input and output layers\n",
    "        self.model.conv1 = torch.nn.Conv2d(1, 64, kernel_size=(7, 7), stride=(2, 2), padding=(3, 3), bias=False)\n",
    "        self.model.fc = torch.nn.Linear(in_features=512, out_features=1)\n",
    "\n",
    "        self.loss_fn = torch.nn.BCEWithLogitsLoss(pos_weight=torch.tensor([weight]))\n",
    "        self.train_acc = torchmetrics.classification.BinaryAccuracy()\n",
    "        self.val_acc = torchmetrics.classification.BinaryAccuracy()\n",
    "\n",
    "    def forward(self, data):\n",
    "        return self.model(data)\n",
    "\n",
    "    def training_step(self, batch, batch_idx):\n",
    "        x_ray, label = batch\n",
    "        label = label.float()\n",
    "        pred = self(x_ray)[:, 0]\n",
    "        loss = self.loss_fn(pred, label)\n",
    "\n",
    "        self.log(\"Train Loss\", loss, on_step=True, on_epoch=False)\n",
    "        self.log(\"Step Train Acc\", self.train_acc(torch.sigmoid(pred), label.int()), on_step=True, on_epoch=False)\n",
    "\n",
    "        return loss\n",
    "\n",
    "    def on_train_epoch_end(self):\n",
    "        self.log(\"Train Acc\", self.train_acc.compute(), prog_bar=True)\n",
    "        self.train_acc.reset()\n",
    "\n",
    "    def validation_step(self, batch, batch_idx):\n",
    "        x_ray, label = batch\n",
    "        label = label.float()\n",
    "        pred = self(x_ray)[:, 0]\n",
    "        loss = self.loss_fn(pred, label)\n",
    "\n",
    "        self.log(\"Val Loss\", loss, on_step=True, on_epoch=False)\n",
    "        self.log(\"Step Val Acc\", self.val_acc(torch.sigmoid(pred), label.int()), on_step=True, on_epoch=False)\n",
    "\n",
    "        return loss\n",
    "\n",
    "    def on_validation_epoch_end(self):\n",
    "        self.log(\"Val Acc\", self.val_acc.compute(), prog_bar=True)\n",
    "        self.val_acc.reset()\n",
    "\n",
    "    def configure_optimizers(self):\n",
    "        return torch.optim.Adam(self.parameters(), lr=1e-4)\n"
   ]
  },
  {
   "cell_type": "code",
   "execution_count": 8,
   "id": "ef1bd8cf-837b-4972-96b3-a62aae5c9c1d",
   "metadata": {},
   "outputs": [
    {
     "name": "stderr",
     "output_type": "stream",
     "text": [
      "GPU available: False, used: False\n",
      "TPU available: False, using: 0 TPU cores\n",
      "HPU available: False, using: 0 HPUs\n",
      "\n",
      "  | Name      | Type              | Params | Mode \n",
      "--------------------------------------------------------\n",
      "0 | model     | ResNet            | 11.2 M | train\n",
      "1 | loss_fn   | BCEWithLogitsLoss | 0      | train\n",
      "2 | train_acc | BinaryAccuracy    | 0      | train\n",
      "3 | val_acc   | BinaryAccuracy    | 0      | train\n",
      "--------------------------------------------------------\n",
      "11.2 M    Trainable params\n",
      "0         Non-trainable params\n",
      "11.2 M    Total params\n",
      "44.683    Total estimated model params size (MB)\n",
      "71        Modules in train mode\n",
      "0         Modules in eval mode\n"
     ]
    },
    {
     "data": {
      "application/vnd.jupyter.widget-view+json": {
       "model_id": "fab2649d50b84d2f98c92dd9ed307284",
       "version_major": 2,
       "version_minor": 0
      },
      "text/plain": [
       "Sanity Checking: |                                                                               | 0/? [00:00<…"
      ]
     },
     "metadata": {},
     "output_type": "display_data"
    },
    {
     "name": "stderr",
     "output_type": "stream",
     "text": [
      "C:\\Users\\n.kulangareth\\AppData\\Local\\anaconda3\\Lib\\site-packages\\pytorch_lightning\\trainer\\connectors\\data_connector.py:425: The 'val_dataloader' does not have many workers which may be a bottleneck. Consider increasing the value of the `num_workers` argument` to `num_workers=11` in the `DataLoader` to improve performance.\n",
      "C:\\Users\\n.kulangareth\\AppData\\Local\\anaconda3\\Lib\\site-packages\\pytorch_lightning\\trainer\\connectors\\data_connector.py:425: The 'train_dataloader' does not have many workers which may be a bottleneck. Consider increasing the value of the `num_workers` argument` to `num_workers=11` in the `DataLoader` to improve performance.\n"
     ]
    },
    {
     "data": {
      "application/vnd.jupyter.widget-view+json": {
       "model_id": "7a35738e80fc4a96b4bf2f0d39214d1c",
       "version_major": 2,
       "version_minor": 0
      },
      "text/plain": [
       "Training: |                                                                                      | 0/? [00:00<…"
      ]
     },
     "metadata": {},
     "output_type": "display_data"
    },
    {
     "data": {
      "application/vnd.jupyter.widget-view+json": {
       "model_id": "ee2ced8d7c654c90a4af5a7d0705783a",
       "version_major": 2,
       "version_minor": 0
      },
      "text/plain": [
       "Validation: |                                                                                    | 0/? [00:00<…"
      ]
     },
     "metadata": {},
     "output_type": "display_data"
    },
    {
     "data": {
      "application/vnd.jupyter.widget-view+json": {
       "model_id": "79c0005a981e42ec994cee132c73fec8",
       "version_major": 2,
       "version_minor": 0
      },
      "text/plain": [
       "Validation: |                                                                                    | 0/? [00:00<…"
      ]
     },
     "metadata": {},
     "output_type": "display_data"
    },
    {
     "data": {
      "application/vnd.jupyter.widget-view+json": {
       "model_id": "52ed9fa9b6f740f29b46a27e6683a092",
       "version_major": 2,
       "version_minor": 0
      },
      "text/plain": [
       "Validation: |                                                                                    | 0/? [00:00<…"
      ]
     },
     "metadata": {},
     "output_type": "display_data"
    },
    {
     "data": {
      "application/vnd.jupyter.widget-view+json": {
       "model_id": "6babe9319d4348e68038956418b5951f",
       "version_major": 2,
       "version_minor": 0
      },
      "text/plain": [
       "Validation: |                                                                                    | 0/? [00:00<…"
      ]
     },
     "metadata": {},
     "output_type": "display_data"
    },
    {
     "data": {
      "application/vnd.jupyter.widget-view+json": {
       "model_id": "5ac8f0ba875e424eb1e0f5175f4bd0e3",
       "version_major": 2,
       "version_minor": 0
      },
      "text/plain": [
       "Validation: |                                                                                    | 0/? [00:00<…"
      ]
     },
     "metadata": {},
     "output_type": "display_data"
    },
    {
     "data": {
      "application/vnd.jupyter.widget-view+json": {
       "model_id": "668be84ecd404ec48a29f283257a0af1",
       "version_major": 2,
       "version_minor": 0
      },
      "text/plain": [
       "Validation: |                                                                                    | 0/? [00:00<…"
      ]
     },
     "metadata": {},
     "output_type": "display_data"
    },
    {
     "data": {
      "application/vnd.jupyter.widget-view+json": {
       "model_id": "45cf3c45c78749979996a8e5776b625e",
       "version_major": 2,
       "version_minor": 0
      },
      "text/plain": [
       "Validation: |                                                                                    | 0/? [00:00<…"
      ]
     },
     "metadata": {},
     "output_type": "display_data"
    },
    {
     "data": {
      "application/vnd.jupyter.widget-view+json": {
       "model_id": "efd1646aa9db429b9f71e7fa6ede1db8",
       "version_major": 2,
       "version_minor": 0
      },
      "text/plain": [
       "Validation: |                                                                                    | 0/? [00:00<…"
      ]
     },
     "metadata": {},
     "output_type": "display_data"
    },
    {
     "data": {
      "application/vnd.jupyter.widget-view+json": {
       "model_id": "c8c546bf21ef4a2db1ee1788b7f0f745",
       "version_major": 2,
       "version_minor": 0
      },
      "text/plain": [
       "Validation: |                                                                                    | 0/? [00:00<…"
      ]
     },
     "metadata": {},
     "output_type": "display_data"
    },
    {
     "data": {
      "application/vnd.jupyter.widget-view+json": {
       "model_id": "e81aef8422b64fe7b5087c40b938de68",
       "version_major": 2,
       "version_minor": 0
      },
      "text/plain": [
       "Validation: |                                                                                    | 0/? [00:00<…"
      ]
     },
     "metadata": {},
     "output_type": "display_data"
    },
    {
     "data": {
      "application/vnd.jupyter.widget-view+json": {
       "model_id": "5e0b0c8060674792bf09ae46620647a3",
       "version_major": 2,
       "version_minor": 0
      },
      "text/plain": [
       "Validation: |                                                                                    | 0/? [00:00<…"
      ]
     },
     "metadata": {},
     "output_type": "display_data"
    },
    {
     "data": {
      "application/vnd.jupyter.widget-view+json": {
       "model_id": "d814848be85b47e9876877c13408d53e",
       "version_major": 2,
       "version_minor": 0
      },
      "text/plain": [
       "Validation: |                                                                                    | 0/? [00:00<…"
      ]
     },
     "metadata": {},
     "output_type": "display_data"
    },
    {
     "data": {
      "application/vnd.jupyter.widget-view+json": {
       "model_id": "a2c3c39cab07430d89bdb0b193384d91",
       "version_major": 2,
       "version_minor": 0
      },
      "text/plain": [
       "Validation: |                                                                                    | 0/? [00:00<…"
      ]
     },
     "metadata": {},
     "output_type": "display_data"
    },
    {
     "data": {
      "application/vnd.jupyter.widget-view+json": {
       "model_id": "80daccb82bba4d70829b8d751b3072e7",
       "version_major": 2,
       "version_minor": 0
      },
      "text/plain": [
       "Validation: |                                                                                    | 0/? [00:00<…"
      ]
     },
     "metadata": {},
     "output_type": "display_data"
    },
    {
     "data": {
      "application/vnd.jupyter.widget-view+json": {
       "model_id": "0fe52be02359424295f38f9405b886d8",
       "version_major": 2,
       "version_minor": 0
      },
      "text/plain": [
       "Validation: |                                                                                    | 0/? [00:00<…"
      ]
     },
     "metadata": {},
     "output_type": "display_data"
    },
    {
     "data": {
      "application/vnd.jupyter.widget-view+json": {
       "model_id": "c8360b47dcff4bb3b32ae913d16ef209",
       "version_major": 2,
       "version_minor": 0
      },
      "text/plain": [
       "Validation: |                                                                                    | 0/? [00:00<…"
      ]
     },
     "metadata": {},
     "output_type": "display_data"
    },
    {
     "data": {
      "application/vnd.jupyter.widget-view+json": {
       "model_id": "0600251358be49808605b0dc95ae7329",
       "version_major": 2,
       "version_minor": 0
      },
      "text/plain": [
       "Validation: |                                                                                    | 0/? [00:00<…"
      ]
     },
     "metadata": {},
     "output_type": "display_data"
    },
    {
     "data": {
      "application/vnd.jupyter.widget-view+json": {
       "model_id": "5c7f9aa1378049f6966f10994724dade",
       "version_major": 2,
       "version_minor": 0
      },
      "text/plain": [
       "Validation: |                                                                                    | 0/? [00:00<…"
      ]
     },
     "metadata": {},
     "output_type": "display_data"
    },
    {
     "data": {
      "application/vnd.jupyter.widget-view+json": {
       "model_id": "c3662ec5024f48adbd006287281bd6d2",
       "version_major": 2,
       "version_minor": 0
      },
      "text/plain": [
       "Validation: |                                                                                    | 0/? [00:00<…"
      ]
     },
     "metadata": {},
     "output_type": "display_data"
    },
    {
     "data": {
      "application/vnd.jupyter.widget-view+json": {
       "model_id": "c02bbd05b4de40c79972eb55c17d1089",
       "version_major": 2,
       "version_minor": 0
      },
      "text/plain": [
       "Validation: |                                                                                    | 0/? [00:00<…"
      ]
     },
     "metadata": {},
     "output_type": "display_data"
    },
    {
     "data": {
      "application/vnd.jupyter.widget-view+json": {
       "model_id": "04a71d25107a4d109b0a79bcb5554d26",
       "version_major": 2,
       "version_minor": 0
      },
      "text/plain": [
       "Validation: |                                                                                    | 0/? [00:00<…"
      ]
     },
     "metadata": {},
     "output_type": "display_data"
    },
    {
     "data": {
      "application/vnd.jupyter.widget-view+json": {
       "model_id": "d5696e53cbbe4b42b353d768857dde61",
       "version_major": 2,
       "version_minor": 0
      },
      "text/plain": [
       "Validation: |                                                                                    | 0/? [00:00<…"
      ]
     },
     "metadata": {},
     "output_type": "display_data"
    },
    {
     "data": {
      "application/vnd.jupyter.widget-view+json": {
       "model_id": "274d683be989423e99685c8b3ec518e5",
       "version_major": 2,
       "version_minor": 0
      },
      "text/plain": [
       "Validation: |                                                                                    | 0/? [00:00<…"
      ]
     },
     "metadata": {},
     "output_type": "display_data"
    },
    {
     "data": {
      "application/vnd.jupyter.widget-view+json": {
       "model_id": "be220fbc1e4d473da738618d8eadc13d",
       "version_major": 2,
       "version_minor": 0
      },
      "text/plain": [
       "Validation: |                                                                                    | 0/? [00:00<…"
      ]
     },
     "metadata": {},
     "output_type": "display_data"
    },
    {
     "data": {
      "application/vnd.jupyter.widget-view+json": {
       "model_id": "b21245abd10c4729a8ce19f7c7dfd87d",
       "version_major": 2,
       "version_minor": 0
      },
      "text/plain": [
       "Validation: |                                                                                    | 0/? [00:00<…"
      ]
     },
     "metadata": {},
     "output_type": "display_data"
    },
    {
     "data": {
      "application/vnd.jupyter.widget-view+json": {
       "model_id": "afdc37966101438496b4ffc00e4e51e6",
       "version_major": 2,
       "version_minor": 0
      },
      "text/plain": [
       "Validation: |                                                                                    | 0/? [00:00<…"
      ]
     },
     "metadata": {},
     "output_type": "display_data"
    },
    {
     "data": {
      "application/vnd.jupyter.widget-view+json": {
       "model_id": "a7e58bd8b701420f843fa1cc0c05b18c",
       "version_major": 2,
       "version_minor": 0
      },
      "text/plain": [
       "Validation: |                                                                                    | 0/? [00:00<…"
      ]
     },
     "metadata": {},
     "output_type": "display_data"
    },
    {
     "data": {
      "application/vnd.jupyter.widget-view+json": {
       "model_id": "7f518592f9914e3986dc96b1e8c3bf28",
       "version_major": 2,
       "version_minor": 0
      },
      "text/plain": [
       "Validation: |                                                                                    | 0/? [00:00<…"
      ]
     },
     "metadata": {},
     "output_type": "display_data"
    },
    {
     "data": {
      "application/vnd.jupyter.widget-view+json": {
       "model_id": "256a9f3a691b4f2ba7f558b81e8c7219",
       "version_major": 2,
       "version_minor": 0
      },
      "text/plain": [
       "Validation: |                                                                                    | 0/? [00:00<…"
      ]
     },
     "metadata": {},
     "output_type": "display_data"
    },
    {
     "data": {
      "application/vnd.jupyter.widget-view+json": {
       "model_id": "ec44c3e85ca245eaa39c8313895ee777",
       "version_major": 2,
       "version_minor": 0
      },
      "text/plain": [
       "Validation: |                                                                                    | 0/? [00:00<…"
      ]
     },
     "metadata": {},
     "output_type": "display_data"
    },
    {
     "data": {
      "application/vnd.jupyter.widget-view+json": {
       "model_id": "62c04fb534004aa4bc60407fed33311e",
       "version_major": 2,
       "version_minor": 0
      },
      "text/plain": [
       "Validation: |                                                                                    | 0/? [00:00<…"
      ]
     },
     "metadata": {},
     "output_type": "display_data"
    },
    {
     "data": {
      "application/vnd.jupyter.widget-view+json": {
       "model_id": "8caff7a1d6d441e7aa26ed862a74bb35",
       "version_major": 2,
       "version_minor": 0
      },
      "text/plain": [
       "Validation: |                                                                                    | 0/? [00:00<…"
      ]
     },
     "metadata": {},
     "output_type": "display_data"
    },
    {
     "data": {
      "application/vnd.jupyter.widget-view+json": {
       "model_id": "b9abcca46b64489d8c5f19e887486fbb",
       "version_major": 2,
       "version_minor": 0
      },
      "text/plain": [
       "Validation: |                                                                                    | 0/? [00:00<…"
      ]
     },
     "metadata": {},
     "output_type": "display_data"
    },
    {
     "data": {
      "application/vnd.jupyter.widget-view+json": {
       "model_id": "f8dafb20cc484e87aade977e5f85fe81",
       "version_major": 2,
       "version_minor": 0
      },
      "text/plain": [
       "Validation: |                                                                                    | 0/? [00:00<…"
      ]
     },
     "metadata": {},
     "output_type": "display_data"
    },
    {
     "data": {
      "application/vnd.jupyter.widget-view+json": {
       "model_id": "4f60210a43574165bbef15f9b95eafe2",
       "version_major": 2,
       "version_minor": 0
      },
      "text/plain": [
       "Validation: |                                                                                    | 0/? [00:00<…"
      ]
     },
     "metadata": {},
     "output_type": "display_data"
    },
    {
     "name": "stderr",
     "output_type": "stream",
     "text": [
      "`Trainer.fit` stopped: `max_epochs=35` reached.\n"
     ]
    }
   ],
   "source": [
    "# Instantiate model\n",
    "model = PneumoniaModel()\n",
    "\n",
    "# Checkpoint callback\n",
    "checkpoint_callback = ModelCheckpoint(\n",
    "    monitor='Val Acc',\n",
    "    save_top_k=10,\n",
    "    mode='max'\n",
    ")\n",
    "\n",
    "# Trainer\n",
    "trainer = pl.Trainer(\n",
    "    accelerator=\"cpu\",  # Change to \"gpu\" if needed\n",
    "    devices=1,\n",
    "    logger=TensorBoardLogger(save_dir=\"./logs\"),\n",
    "    log_every_n_steps=1,\n",
    "    callbacks=[checkpoint_callback],\n",
    "    max_epochs=35\n",
    ")\n",
    "\n",
    "# Train the model\n",
    "trainer.fit(model, train_loader, val_loader)\n"
   ]
  },
  {
   "cell_type": "code",
   "execution_count": 9,
   "id": "89eeab0b-d6b2-4319-b769-2a7592b5d00e",
   "metadata": {},
   "outputs": [],
   "source": [
    "\n",
    "import torch\n",
    "device = torch.device(\"cuda:0\" if torch.cuda.is_available() else \"cpu\")\n"
   ]
  },
  {
   "cell_type": "code",
   "execution_count": 10,
   "id": "305ce42d-a07b-4312-b4b3-b0f897e211d9",
   "metadata": {},
   "outputs": [
    {
     "name": "stderr",
     "output_type": "stream",
     "text": [
      "Evaluating: 100%|█████████████████████████████████████████████████████████████████| 336/336 [00:43<00:00,  7.76batch/s]\n"
     ]
    },
    {
     "name": "stdout",
     "output_type": "stream",
     "text": [
      "Val Accuracy: 0.8454\n",
      "Val Precision: 0.6877\n",
      "Val Recall: 0.5752\n",
      "Confusion Matrix (0.5 threshold):\n",
      "tensor([[1921,  158],\n",
      "        [ 257,  348]])\n",
      "Confusion Matrix (0.25 threshold):\n",
      "tensor([[1566,  513],\n",
      "        [ 105,  500]])\n"
     ]
    }
   ],
   "source": [
    "from tqdm import tqdm\n",
    "import torch\n",
    "from torchmetrics.classification import Accuracy, Precision, Recall, ConfusionMatrix\n",
    "\n",
    "model.eval()\n",
    "model.to(device)\n",
    "\n",
    "preds = []\n",
    "labels = []\n",
    "\n",
    "# Use DataLoader and tqdm with progress bar\n",
    "with torch.no_grad():\n",
    "    for data, label in tqdm(val_loader, desc=\"Evaluating\", unit=\"batch\"):\n",
    "        data = data.to(device).float()\n",
    "        label = label.to(device).int()\n",
    "\n",
    "        output = torch.sigmoid(model(data)).squeeze()\n",
    "        preds.extend(output.cpu())\n",
    "        labels.extend(label.cpu())\n",
    "\n",
    "# Convert to tensors\n",
    "preds = torch.stack(preds)\n",
    "labels = torch.stack(labels)\n",
    "\n",
    "# Thresholding\n",
    "threshold = 0.5\n",
    "pred_labels = (preds > threshold).int()\n",
    "\n",
    "# Metrics\n",
    "acc = Accuracy(task=\"binary\")(pred_labels, labels)\n",
    "precision = Precision(task=\"binary\")(pred_labels, labels)\n",
    "recall = Recall(task=\"binary\")(pred_labels, labels)\n",
    "cm = ConfusionMatrix(task=\"binary\")(pred_labels, labels)\n",
    "\n",
    "# Lower threshold example\n",
    "pred_labels_thresh = (preds > 0.25).int()\n",
    "cm_thresh = ConfusionMatrix(task=\"binary\")(pred_labels_thresh, labels)\n",
    "\n",
    "# Print metrics\n",
    "print(f\"Val Accuracy: {acc.item():.4f}\")\n",
    "print(f\"Val Precision: {precision.item():.4f}\")\n",
    "print(f\"Val Recall: {recall.item():.4f}\")\n",
    "print(f\"Confusion Matrix (0.5 threshold):\\n{cm}\")\n",
    "print(f\"Confusion Matrix (0.25 threshold):\\n{cm_thresh}\")\n"
   ]
  },
  {
   "cell_type": "code",
   "execution_count": null,
   "id": "5e629917-1ea7-4b40-96bb-303efe3dd440",
   "metadata": {},
   "outputs": [],
   "source": [
    "#started at 11:30 Sep 1 2025"
   ]
  },
  {
   "cell_type": "code",
   "execution_count": null,
   "id": "8526d565-f487-474f-a8c6-6fd8f929ffb7",
   "metadata": {},
   "outputs": [],
   "source": []
  },
  {
   "cell_type": "code",
   "execution_count": null,
   "id": "2cbf0199-762d-4ea8-a6ff-d4e8b3ecf195",
   "metadata": {},
   "outputs": [],
   "source": []
  },
  {
   "cell_type": "code",
   "execution_count": null,
   "id": "c9ac048d-8f96-4de3-80a4-de27f0175b21",
   "metadata": {},
   "outputs": [],
   "source": []
  },
  {
   "cell_type": "code",
   "execution_count": null,
   "id": "fdacbd99-dbec-4331-a6ac-720b913ef5bb",
   "metadata": {},
   "outputs": [],
   "source": []
  },
  {
   "cell_type": "code",
   "execution_count": null,
   "id": "b230ce23-c17f-4744-af10-da230de70c58",
   "metadata": {},
   "outputs": [],
   "source": []
  },
  {
   "cell_type": "code",
   "execution_count": 1,
   "id": "0f1e78ac-5dbc-41ba-9354-560338899e64",
   "metadata": {},
   "outputs": [],
   "source": [
    "class Dog:\n",
    "    # Constructor: Initializes an object when created\n",
    "    def __init__(self, name, breed, age):\n",
    "        self.name = name  # instance variable\n",
    "        self.breed = breed\n",
    "        self.age = age\n",
    "\n",
    "    # Method: A function defined inside a class\n",
    "    def bark(self):\n",
    "        print(f\"{self.name} says Woof!\")\n",
    "    \n",
    "    def eat(self):\n",
    "        print(f\"{self.name} is eating.\")\n",
    "\n"
   ]
  },
  {
   "cell_type": "code",
   "execution_count": null,
   "id": "6613d5e4-cfcf-46ad-9c44-f8e47ad61b48",
   "metadata": {},
   "outputs": [],
   "source": [
    "# Creating an object of the class\n",
    "my_dog = Dog(\"Buddy\", \"Golden Retriever\", 3)\n",
    "\n",
    "# Accessing properties\n",
    "print(my_dog.name)  # Outputs: Buddy\n",
    "\n",
    "# Calling methods\n",
    "my_dog.bark()  # Outputs: Buddy says Woof!\n",
    "my_dog.eat()   # Outputs: Buddy is eating.\n"
   ]
  }
 ],
 "metadata": {
  "kernelspec": {
   "display_name": "Python 3 (ipykernel)",
   "language": "python",
   "name": "python3"
  },
  "language_info": {
   "codemirror_mode": {
    "name": "ipython",
    "version": 3
   },
   "file_extension": ".py",
   "mimetype": "text/x-python",
   "name": "python",
   "nbconvert_exporter": "python",
   "pygments_lexer": "ipython3",
   "version": "3.12.7"
  }
 },
 "nbformat": 4,
 "nbformat_minor": 5
}
